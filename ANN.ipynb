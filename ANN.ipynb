{
  "cells": [
    {
      "cell_type": "code",
      "execution_count": null,
      "metadata": {
        "id": "9ffbHvLF3qGb"
      },
      "outputs": [],
      "source": [
        "import numpy\n",
        "import pandas\n",
        "import tensorflow\n",
        "from sklearn.preprocessing import OneHotEncoder\n",
        "from sklearn.model_selection import train_test_split\n",
        "from sklearn.preprocessing import LabelEncoder\n",
        "from sklearn.compose import ColumnTransformer\n",
        "from sklearn.preprocessing import StandardScaler\n",
        "from sklearn.metrics import confusion_matrix, accuracy_score"
      ]
    },
    {
      "cell_type": "code",
      "execution_count": null,
      "metadata": {
        "id": "zy_eR0PQ4Ilm"
      },
      "outputs": [],
      "source": [
        "bank_data = pandas.read_csv('Bank_data.csv')\n",
        "X = bank_data.iloc[:, 3:-1].values\n",
        "y = bank_data.iloc[:, -1].values"
      ]
    },
    {
      "cell_type": "code",
      "execution_count": null,
      "metadata": {},
      "outputs": [],
      "source": [
        "label_encoder = LabelEncoder()\n",
        "X[:, 2] = label_encoder.fit_transform(X[:, 2])"
      ]
    },
    {
      "cell_type": "code",
      "execution_count": null,
      "metadata": {
        "id": "OZHD202o6-p5"
      },
      "outputs": [],
      "source": [
        "\n",
        "column_transform = ColumnTransformer(transformers=[('encoder', OneHotEncoder(), [1])], remainder='passthrough')\n",
        "X = numpy.array(column_transform.fit_transform(X))"
      ]
    },
    {
      "cell_type": "code",
      "execution_count": null,
      "metadata": {
        "id": "WrBBL37A8IBP"
      },
      "outputs": [],
      "source": [
        "X_train, X_test, y_train, y_test = train_test_split(X, y, test_size = 0.1, random_state = 0)"
      ]
    },
    {
      "cell_type": "code",
      "execution_count": null,
      "metadata": {
        "id": "i9NOwB0Q8e3E"
      },
      "outputs": [],
      "source": [
        "\n",
        "standard_scaler = StandardScaler()\n",
        "X_train = standard_scaler.fit_transform(X_train)\n",
        "X_test = standard_scaler.transform(X_test)"
      ]
    },
    {
      "cell_type": "code",
      "execution_count": null,
      "metadata": {
        "id": "eUVPO7NU9Uc6"
      },
      "outputs": [],
      "source": [
        "neural_network = tensorflow.keras.models.Sequential()"
      ]
    },
    {
      "cell_type": "code",
      "execution_count": null,
      "metadata": {
        "id": "2YO0PrG0HvUR"
      },
      "outputs": [],
      "source": [
        "neural_network.add(tensorflow.keras.layers.Dense(units=8, activation='relu'))"
      ]
    },
    {
      "cell_type": "code",
      "execution_count": null,
      "metadata": {
        "id": "6dSem4g6p1J8"
      },
      "outputs": [],
      "source": [
        "neural_network.add(tensorflow.keras.layers.Dense(units=8, activation='relu'))"
      ]
    },
    {
      "cell_type": "code",
      "execution_count": null,
      "metadata": {
        "id": "4quB5OWKN5wz"
      },
      "outputs": [],
      "source": [
        "neural_network.add(tensorflow.keras.layers.Dense(units=8, activation='relu'))"
      ]
    },
    {
      "cell_type": "code",
      "execution_count": null,
      "metadata": {
        "id": "ifJZasHMH6oD"
      },
      "outputs": [],
      "source": [
        "neural_network.add(tensorflow.keras.layers.Dense(units=1, activation='sigmoid'))"
      ]
    },
    {
      "cell_type": "code",
      "execution_count": null,
      "metadata": {
        "id": "lomfO1PvJAOR"
      },
      "outputs": [],
      "source": [
        "neural_network.compile(optimizer = 'adam', loss = 'binary_crossentropy', metrics = ['accuracy'])"
      ]
    },
    {
      "cell_type": "code",
      "execution_count": null,
      "metadata": {
        "colab": {
          "base_uri": "https://localhost:8080/"
        },
        "id": "-CFci2tXJ-R9",
        "outputId": "c3d85c5b-ab4e-4618-df65-477c6318c4d3"
      },
      "outputs": [],
      "source": [
        "neural_network.fit(X_train, y_train, batch_size = 40, epochs = 80)"
      ]
    },
    {
      "cell_type": "code",
      "execution_count": null,
      "metadata": {
        "colab": {
          "base_uri": "https://localhost:8080/"
        },
        "id": "zmzBMIMsN7SS",
        "outputId": "fe9cd848-3608-41f1-b11b-bfb8ef281da3"
      },
      "outputs": [],
      "source": [
        "y_prediction = neural_network.predict(X_test)\n",
        "y_prediction = (y_prediction > 0.5)\n",
        "print(numpy.concatenate((y_prediction.reshape(len(y_prediction),1), y_test.reshape(len(y_test),1)),1))"
      ]
    },
    {
      "cell_type": "code",
      "execution_count": null,
      "metadata": {
        "colab": {
          "base_uri": "https://localhost:8080/"
        },
        "id": "VRv1DBlZO5Kw",
        "outputId": "508d3994-ea90-41de-c5a3-0134a4e094a6"
      },
      "outputs": [],
      "source": [
        "confusion_mat = confusion_matrix(y_test, y_prediction)\n",
        "print(confusion_mat)\n",
        "accuracy_score(y_test, y_prediction)"
      ]
    },
    {
      "cell_type": "code",
      "execution_count": null,
      "metadata": {
        "colab": {
          "base_uri": "https://localhost:8080/"
        },
        "id": "c6uFpYl6Obgb",
        "outputId": "bcec5196-a3be-49ce-d633-951c13d666f4"
      },
      "outputs": [],
      "source": [
        "print(neural_network.predict(standard_scaler.transform([[1, 0, 0, 650, 0, 70, 3, 300000, 2, 1, 0, 110000]])) > 0.5)"
      ]
    }
  ],
  "metadata": {
    "colab": {
      "collapsed_sections": [],
      "name": "ANN.ipynb",
      "provenance": []
    },
    "kernelspec": {
      "display_name": "Python 3",
      "name": "python3"
    },
    "language_info": {
      "codemirror_mode": {
        "name": "ipython",
        "version": 3
      },
      "file_extension": ".py",
      "mimetype": "text/x-python",
      "name": "python",
      "nbconvert_exporter": "python",
      "pygments_lexer": "ipython3",
      "version": "3.9.10"
    }
  },
  "nbformat": 4,
  "nbformat_minor": 0
}
